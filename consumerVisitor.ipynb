{
 "cells": [
  {
   "cell_type": "code",
   "execution_count": 1,
   "metadata": {},
   "outputs": [],
   "source": [
    "import numpy as np\n",
    "import pandas as pd\n",
    "import matplotlib.pyplot as plt"
   ]
  },
  {
   "cell_type": "code",
   "execution_count": 2,
   "metadata": {},
   "outputs": [],
   "source": [
    "path = \"../Dataset/visit-patterns-by-census-block-group/\"\n",
    "file = \"cbg_patterns.csv\""
   ]
  },
  {
   "cell_type": "code",
   "execution_count": 3,
   "metadata": {
    "scrolled": true
   },
   "outputs": [
    {
     "data": {
      "text/html": [
       "<div>\n",
       "<style scoped>\n",
       "    .dataframe tbody tr th:only-of-type {\n",
       "        vertical-align: middle;\n",
       "    }\n",
       "\n",
       "    .dataframe tbody tr th {\n",
       "        vertical-align: top;\n",
       "    }\n",
       "\n",
       "    .dataframe thead th {\n",
       "        text-align: right;\n",
       "    }\n",
       "</style>\n",
       "<table border=\"1\" class=\"dataframe\">\n",
       "  <thead>\n",
       "    <tr style=\"text-align: right;\">\n",
       "      <th></th>\n",
       "      <th>census_block_group</th>\n",
       "      <th>date_range_start</th>\n",
       "      <th>date_range_end</th>\n",
       "      <th>raw_visit_count</th>\n",
       "      <th>raw_visitor_count</th>\n",
       "      <th>visitor_home_cbgs</th>\n",
       "      <th>visitor_work_cbgs</th>\n",
       "      <th>distance_from_home</th>\n",
       "      <th>related_same_day_brand</th>\n",
       "      <th>related_same_month_brand</th>\n",
       "      <th>top_brands</th>\n",
       "      <th>popularity_by_hour</th>\n",
       "      <th>popularity_by_day</th>\n",
       "    </tr>\n",
       "  </thead>\n",
       "  <tbody>\n",
       "    <tr>\n",
       "      <th>0</th>\n",
       "      <td>1.005951e+10</td>\n",
       "      <td>1538352000</td>\n",
       "      <td>1541030400</td>\n",
       "      <td>75122.0</td>\n",
       "      <td>18314.0</td>\n",
       "      <td>{\"010059501003\":127,\"010059509001\":111,\"010059...</td>\n",
       "      <td>{\"010059501003\":109,\"010810407002\":62,\"0108104...</td>\n",
       "      <td>194724.0</td>\n",
       "      <td>[\"Chick-fil-A\",\"mcdonalds\",\"Marathon Petroleum...</td>\n",
       "      <td>[\"walmart\",\"mcdonalds\",\"Dollar General\",\"Chick...</td>\n",
       "      <td>[\"CrossFit\",\"Health Mart\",\"Coldwell Banker\"]</td>\n",
       "      <td>[2617,2457,2403,2519,2646,3007,3886,7566,5508,...</td>\n",
       "      <td>{\"Monday\":12000,\"Tuesday\":12224,\"Wednesday\":10...</td>\n",
       "    </tr>\n",
       "    <tr>\n",
       "      <th>1</th>\n",
       "      <td>1.009051e+10</td>\n",
       "      <td>1538352000</td>\n",
       "      <td>1541030400</td>\n",
       "      <td>95649.0</td>\n",
       "      <td>38942.0</td>\n",
       "      <td>{\"010730113021\":210,\"010090506022\":205,\"010090...</td>\n",
       "      <td>{\"010890111001\":271,\"010730045001\":269,\"010439...</td>\n",
       "      <td>120587.0</td>\n",
       "      <td>[\"Shell Oil\",\"mcdonalds\",\"Chick-fil-A\",\"Chevron\"]</td>\n",
       "      <td>[\"walmart\",\"mcdonalds\",\"Shell Oil\",\"Chick-fil-...</td>\n",
       "      <td>[]</td>\n",
       "      <td>[6556,6325,6222,6355,6586,7350,8568,8099,7378,...</td>\n",
       "      <td>{\"Monday\":12125,\"Tuesday\":12984,\"Wednesday\":12...</td>\n",
       "    </tr>\n",
       "    <tr>\n",
       "      <th>2</th>\n",
       "      <td>1.047957e+10</td>\n",
       "      <td>1538352000</td>\n",
       "      <td>1541030400</td>\n",
       "      <td>14009.0</td>\n",
       "      <td>3039.0</td>\n",
       "      <td>{\"010479567011\":67,\"010479567021\":60}</td>\n",
       "      <td>{\"010479567021\":52}</td>\n",
       "      <td>67774.0</td>\n",
       "      <td>[\"Dollar General\"]</td>\n",
       "      <td>[\"walmart\",\"Dollar General\",\"mcdonalds\",\"Chevr...</td>\n",
       "      <td>[\"Dollar General\"]</td>\n",
       "      <td>[807,790,796,786,851,951,1134,1797,1355,1241,1...</td>\n",
       "      <td>{\"Monday\":2314,\"Tuesday\":2340,\"Wednesday\":2195...</td>\n",
       "    </tr>\n",
       "    <tr>\n",
       "      <th>3</th>\n",
       "      <td>1.069040e+10</td>\n",
       "      <td>1538352000</td>\n",
       "      <td>1541030400</td>\n",
       "      <td>128169.0</td>\n",
       "      <td>25418.0</td>\n",
       "      <td>{\"010690402013\":370,\"010690402011\":322,\"010690...</td>\n",
       "      <td>{\"010690402024\":313,\"010690415004\":203,\"010450...</td>\n",
       "      <td>42684.0</td>\n",
       "      <td>[\"Chick-fil-A\",\"Sam's Club\",\"Dollar General\",\"...</td>\n",
       "      <td>[\"walmart\",\"Dollar General\",\"mcdonalds\",\"Marat...</td>\n",
       "      <td>[\"Chick-fil-A\",\"Sam's Club\",\"Olive Garden\",\"mc...</td>\n",
       "      <td>[2121,1828,1784,1704,1861,2373,3730,7497,7093,...</td>\n",
       "      <td>{\"Monday\":21141,\"Tuesday\":21143,\"Wednesday\":17...</td>\n",
       "    </tr>\n",
       "    <tr>\n",
       "      <th>4</th>\n",
       "      <td>1.073011e+10</td>\n",
       "      <td>1538352000</td>\n",
       "      <td>1541030400</td>\n",
       "      <td>51453.0</td>\n",
       "      <td>9499.0</td>\n",
       "      <td>{\"010090507001\":183,\"010730113021\":167,\"010730...</td>\n",
       "      <td>{\"010730045001\":140,\"010730027001\":123,\"010730...</td>\n",
       "      <td>18878.0</td>\n",
       "      <td>[\"Chevron\",\"Daylight Donuts\",\"walmart\"]</td>\n",
       "      <td>[\"walmart\",\"Chevron\",\"Dollar General\",\"Shell O...</td>\n",
       "      <td>[\"Chevron\",\"CrossFit\"]</td>\n",
       "      <td>[3804,3716,3686,3672,3735,4115,4855,5946,4526,...</td>\n",
       "      <td>{\"Monday\":8402,\"Tuesday\":8414,\"Wednesday\":8550...</td>\n",
       "    </tr>\n",
       "  </tbody>\n",
       "</table>\n",
       "</div>"
      ],
      "text/plain": [
       "   census_block_group  date_range_start  date_range_end  raw_visit_count  \\\n",
       "0        1.005951e+10        1538352000      1541030400          75122.0   \n",
       "1        1.009051e+10        1538352000      1541030400          95649.0   \n",
       "2        1.047957e+10        1538352000      1541030400          14009.0   \n",
       "3        1.069040e+10        1538352000      1541030400         128169.0   \n",
       "4        1.073011e+10        1538352000      1541030400          51453.0   \n",
       "\n",
       "   raw_visitor_count                                  visitor_home_cbgs  \\\n",
       "0            18314.0  {\"010059501003\":127,\"010059509001\":111,\"010059...   \n",
       "1            38942.0  {\"010730113021\":210,\"010090506022\":205,\"010090...   \n",
       "2             3039.0              {\"010479567011\":67,\"010479567021\":60}   \n",
       "3            25418.0  {\"010690402013\":370,\"010690402011\":322,\"010690...   \n",
       "4             9499.0  {\"010090507001\":183,\"010730113021\":167,\"010730...   \n",
       "\n",
       "                                   visitor_work_cbgs  distance_from_home  \\\n",
       "0  {\"010059501003\":109,\"010810407002\":62,\"0108104...            194724.0   \n",
       "1  {\"010890111001\":271,\"010730045001\":269,\"010439...            120587.0   \n",
       "2                                {\"010479567021\":52}             67774.0   \n",
       "3  {\"010690402024\":313,\"010690415004\":203,\"010450...             42684.0   \n",
       "4  {\"010730045001\":140,\"010730027001\":123,\"010730...             18878.0   \n",
       "\n",
       "                              related_same_day_brand  \\\n",
       "0  [\"Chick-fil-A\",\"mcdonalds\",\"Marathon Petroleum...   \n",
       "1  [\"Shell Oil\",\"mcdonalds\",\"Chick-fil-A\",\"Chevron\"]   \n",
       "2                                 [\"Dollar General\"]   \n",
       "3  [\"Chick-fil-A\",\"Sam's Club\",\"Dollar General\",\"...   \n",
       "4            [\"Chevron\",\"Daylight Donuts\",\"walmart\"]   \n",
       "\n",
       "                            related_same_month_brand  \\\n",
       "0  [\"walmart\",\"mcdonalds\",\"Dollar General\",\"Chick...   \n",
       "1  [\"walmart\",\"mcdonalds\",\"Shell Oil\",\"Chick-fil-...   \n",
       "2  [\"walmart\",\"Dollar General\",\"mcdonalds\",\"Chevr...   \n",
       "3  [\"walmart\",\"Dollar General\",\"mcdonalds\",\"Marat...   \n",
       "4  [\"walmart\",\"Chevron\",\"Dollar General\",\"Shell O...   \n",
       "\n",
       "                                          top_brands  \\\n",
       "0       [\"CrossFit\",\"Health Mart\",\"Coldwell Banker\"]   \n",
       "1                                                 []   \n",
       "2                                 [\"Dollar General\"]   \n",
       "3  [\"Chick-fil-A\",\"Sam's Club\",\"Olive Garden\",\"mc...   \n",
       "4                             [\"Chevron\",\"CrossFit\"]   \n",
       "\n",
       "                                  popularity_by_hour  \\\n",
       "0  [2617,2457,2403,2519,2646,3007,3886,7566,5508,...   \n",
       "1  [6556,6325,6222,6355,6586,7350,8568,8099,7378,...   \n",
       "2  [807,790,796,786,851,951,1134,1797,1355,1241,1...   \n",
       "3  [2121,1828,1784,1704,1861,2373,3730,7497,7093,...   \n",
       "4  [3804,3716,3686,3672,3735,4115,4855,5946,4526,...   \n",
       "\n",
       "                                   popularity_by_day  \n",
       "0  {\"Monday\":12000,\"Tuesday\":12224,\"Wednesday\":10...  \n",
       "1  {\"Monday\":12125,\"Tuesday\":12984,\"Wednesday\":12...  \n",
       "2  {\"Monday\":2314,\"Tuesday\":2340,\"Wednesday\":2195...  \n",
       "3  {\"Monday\":21141,\"Tuesday\":21143,\"Wednesday\":17...  \n",
       "4  {\"Monday\":8402,\"Tuesday\":8414,\"Wednesday\":8550...  "
      ]
     },
     "execution_count": 3,
     "metadata": {},
     "output_type": "execute_result"
    }
   ],
   "source": [
    "df = pd.read_csv(path + file)\n",
    "df.head()"
   ]
  },
  {
   "cell_type": "markdown",
   "metadata": {},
   "source": [
    "# 数据可视化和摘要"
   ]
  },
  {
   "cell_type": "code",
   "execution_count": 4,
   "metadata": {},
   "outputs": [
    {
     "name": "stdout",
     "output_type": "stream",
     "text": [
      "<class 'pandas.core.frame.DataFrame'>\n",
      "RangeIndex: 220735 entries, 0 to 220734\n",
      "Data columns (total 13 columns):\n",
      "census_block_group          220734 non-null float64\n",
      "date_range_start            220735 non-null int64\n",
      "date_range_end              220735 non-null int64\n",
      "raw_visit_count             220629 non-null float64\n",
      "raw_visitor_count           220629 non-null float64\n",
      "visitor_home_cbgs           220735 non-null object\n",
      "visitor_work_cbgs           220735 non-null object\n",
      "distance_from_home          220518 non-null float64\n",
      "related_same_day_brand      220735 non-null object\n",
      "related_same_month_brand    220735 non-null object\n",
      "top_brands                  220735 non-null object\n",
      "popularity_by_hour          220735 non-null object\n",
      "popularity_by_day           220735 non-null object\n",
      "dtypes: float64(4), int64(2), object(7)\n",
      "memory usage: 21.9+ MB\n"
     ]
    }
   ],
   "source": [
    "df.info()"
   ]
  },
  {
   "cell_type": "markdown",
   "metadata": {},
   "source": [
    "## 数据摘要\n",
    "### 标称属性\n",
    "根据标称属性的定义，此数据集没有标称属性，但可以注意到：**related_same_day_brand**、**related_same_month_brand**和**top_brands**中，**brand**是可枚举的。基于此我们进行如下处理：  \n",
    "#### related_same_day_brand"
   ]
  },
  {
   "cell_type": "code",
   "execution_count": 6,
   "metadata": {},
   "outputs": [],
   "source": [
    "df1 = df.copy(deep=True)"
   ]
  },
  {
   "cell_type": "code",
   "execution_count": 7,
   "metadata": {},
   "outputs": [
    {
     "data": {
      "text/plain": [
       "mcdonalds                                             46457\n",
       "walmart                                               43342\n",
       "                                                      35542\n",
       "Dunkin' Donuts                                        20972\n",
       "Dollar General                                        17784\n",
       "                                                      ...  \n",
       "BMC (Building Materials and Construction Services)        1\n",
       "New Balance                                               1\n",
       "Terry's Supermarket                                       1\n",
       "Joe's Crab Shack                                          1\n",
       "Blast Fitness                                             1\n",
       "Name: brand, Length: 1935, dtype: int64"
      ]
     },
     "execution_count": 7,
     "metadata": {},
     "output_type": "execute_result"
    }
   ],
   "source": [
    "brand = []\n",
    "for i in df1['related_same_day_brand']:\n",
    "    i = i.strip('[]')\n",
    "    i = i.split(',')  # to list\n",
    "    for j in i:\n",
    "        brand.append(j.strip('\"\"'))\n",
    "brand_df = pd.DataFrame(brand,columns=['brand'])\n",
    "brand_df['brand'].value_counts()"
   ]
  },
  {
   "cell_type": "markdown",
   "metadata": {},
   "source": [
    "我们取频数前50进行频数可视化："
   ]
  },
  {
   "cell_type": "code",
   "execution_count": 8,
   "metadata": {
    "scrolled": true
   },
   "outputs": [
    {
     "data": {
      "text/plain": [
       "<matplotlib.axes._subplots.AxesSubplot at 0x1574c33abe0>"
      ]
     },
     "execution_count": 8,
     "metadata": {},
     "output_type": "execute_result"
    },
    {
     "data": {
      "image/png": "[encoded data removed]",
      "text/plain": [
       "<Figure size 432x288 with 1 Axes>"
      ]
     },
     "metadata": {
      "needs_background": "light"
     },
     "output_type": "display_data"
    }
   ],
   "source": [
    "brand_df['brand'].value_counts().head(50).plot.bar()"
   ]
  },
  {
   "cell_type": "markdown",
   "metadata": {},
   "source": [
    "#### related_same_month_brand"
   ]
  },
  {
   "cell_type": "code",
   "execution_count": 9,
   "metadata": {},
   "outputs": [
    {
     "data": {
      "text/plain": [
       "mcdonalds                 206438\n",
       "walmart                   164347\n",
       "SUBWAY                    104876\n",
       "starbucks                  89666\n",
       "Shell Oil                  77980\n",
       "                           ...  \n",
       "Sentry Foods                   1\n",
       "Delta Sonic                    1\n",
       "Childcare Network              1\n",
       "Los Altos Ranch Market         1\n",
       "Halloween Express              1\n",
       "Name: brand, Length: 1019, dtype: int64"
      ]
     },
     "execution_count": 9,
     "metadata": {},
     "output_type": "execute_result"
    }
   ],
   "source": [
    "brand = []\n",
    "for i in df1['related_same_month_brand']:\n",
    "    i = i.strip('[]')\n",
    "    i = i.split(',')  # to list\n",
    "    for j in i:\n",
    "        brand.append(j.strip('\"\"'))\n",
    "brand_df = pd.DataFrame(brand,columns=['brand'])\n",
    "brand_df['brand'].value_counts()"
   ]
  },
  {
   "cell_type": "code",
   "execution_count": 10,
   "metadata": {},
   "outputs": [
    {
     "data": {
      "text/plain": [
       "<matplotlib.axes._subplots.AxesSubplot at 0x15748ec84e0>"
      ]
     },
     "execution_count": 10,
     "metadata": {},
     "output_type": "execute_result"
    },
    {
     "data": {
      "image/png": "[encoded data removed]",
      "text/plain": [
       "<Figure size 432x288 with 1 Axes>"
      ]
     },
     "metadata": {
      "needs_background": "light"
     },
     "output_type": "display_data"
    }
   ],
   "source": [
    "brand_df['brand'].value_counts().head(50).plot.bar()"
   ]
  },
  {
   "cell_type": "markdown",
   "metadata": {},
   "source": [
    "#### top_brands"
   ]
  },
  {
   "cell_type": "code",
   "execution_count": 11,
   "metadata": {},
   "outputs": [
    {
     "data": {
      "text/plain": [
       "United States Postal Service (USPS)    22119\n",
       "SUBWAY                                 16600\n",
       "Dollar General                         13515\n",
       "mcdonalds                              12670\n",
       "Shell Oil                              10940\n",
       "                                       ...  \n",
       "Penske Automotive Group                    1\n",
       "The Health Hut                             1\n",
       "TRONY Italy                                1\n",
       "Kid Care Pediatrics                        1\n",
       "MoneyGram                                  1\n",
       "Name: brand, Length: 3131, dtype: int64"
      ]
     },
     "execution_count": 11,
     "metadata": {},
     "output_type": "execute_result"
    }
   ],
   "source": [
    "brand = []\n",
    "for i in df1['top_brands']:\n",
    "    if i == '[]':\n",
    "        continue\n",
    "    i = i.strip('[]')\n",
    "    i = i.split(',')  # to list\n",
    "    for j in i:\n",
    "        brand.append(j.strip('\"\"'))\n",
    "brand_df = pd.DataFrame(brand,columns=['brand'])\n",
    "brand_df['brand'].value_counts()"
   ]
  },
  {
   "cell_type": "code",
   "execution_count": 12,
   "metadata": {},
   "outputs": [
    {
     "data": {
      "text/plain": [
       "<matplotlib.axes._subplots.AxesSubplot at 0x15754f93dd8>"
      ]
     },
     "execution_count": 12,
     "metadata": {},
     "output_type": "execute_result"
    },
    {
     "data": {
      "image/png": "[encoded data removed]",
      "text/plain": [
       "<Figure size 432x288 with 1 Axes>"
      ]
     },
     "metadata": {
      "needs_background": "light"
     },
     "output_type": "display_data"
    }
   ],
   "source": [
    "brand_df['brand'].value_counts().head(50).plot.bar()"
   ]
  },
  {
   "cell_type": "markdown",
   "metadata": {},
   "source": [
    "### 数值属性\n",
    "* 数值属性有：**raw_visit_count**、**raw_visitor_count**、**distance_from_home**\n",
    "\n",
    "#### raw_visit_count\n",
    "* 该属性缺失值个数为106\n",
    "* 五数概括："
   ]
  },
  {
   "cell_type": "code",
   "execution_count": 13,
   "metadata": {},
   "outputs": [
    {
     "data": {
      "text/plain": [
       "count    2.206290e+05\n",
       "mean     4.793066e+04\n",
       "std      6.252655e+04\n",
       "min      6.000000e+01\n",
       "25%      1.704200e+04\n",
       "50%      3.064000e+04\n",
       "75%      5.667800e+04\n",
       "max      7.179900e+06\n",
       "Name: raw_visit_count, dtype: float64"
      ]
     },
     "execution_count": 13,
     "metadata": {},
     "output_type": "execute_result"
    }
   ],
   "source": [
    "df['raw_visit_count'].describe()"
   ]
  },
  {
   "cell_type": "markdown",
   "metadata": {},
   "source": [
    "#### raw_visitor_count\n",
    "* 该属性缺失值个数为106\n",
    "* 五数概括："
   ]
  },
  {
   "cell_type": "code",
   "execution_count": 14,
   "metadata": {},
   "outputs": [
    {
     "data": {
      "text/plain": [
       "count    2.206290e+05\n",
       "mean     1.182032e+04\n",
       "std      3.045832e+04\n",
       "min      5.000000e+01\n",
       "25%      3.430000e+03\n",
       "50%      6.541000e+03\n",
       "75%      1.309900e+04\n",
       "max      6.113949e+06\n",
       "Name: raw_visitor_count, dtype: float64"
      ]
     },
     "execution_count": 14,
     "metadata": {},
     "output_type": "execute_result"
    }
   ],
   "source": [
    "df['raw_visitor_count'].describe()"
   ]
  },
  {
   "cell_type": "markdown",
   "metadata": {},
   "source": [
    "#### distance_from_home\n",
    "* 该属性缺失值个数为217\n",
    "* 五数概括"
   ]
  },
  {
   "cell_type": "code",
   "execution_count": 15,
   "metadata": {},
   "outputs": [
    {
     "data": {
      "text/plain": [
       "count    2.205180e+05\n",
       "mean     3.511280e+04\n",
       "std      9.973193e+04\n",
       "min      7.060000e+02\n",
       "25%      8.584000e+03\n",
       "50%      1.461400e+04\n",
       "75%      3.139775e+04\n",
       "max      6.297845e+06\n",
       "Name: distance_from_home, dtype: float64"
      ]
     },
     "execution_count": 15,
     "metadata": {},
     "output_type": "execute_result"
    }
   ],
   "source": [
    "df['distance_from_home'].describe()"
   ]
  },
  {
   "cell_type": "markdown",
   "metadata": {},
   "source": [
    "## 数据可视化"
   ]
  },
  {
   "cell_type": "markdown",
   "metadata": {},
   "source": [
    "### 直方图\n",
    "#### raw_visit_count\n",
    "* 因为最大最小值差距较大，所以根据五数概括中的**Q3** = 56678，取小于60000的值进行可视化："
   ]
  },
  {
   "cell_type": "code",
   "execution_count": 16,
   "metadata": {},
   "outputs": [
    {
     "data": {
      "text/plain": [
       "<matplotlib.axes._subplots.AxesSubplot at 0x15757a5e748>"
      ]
     },
     "execution_count": 16,
     "metadata": {},
     "output_type": "execute_result"
    },
    {
     "data": {
      "image/png": "[encoded data removed]",
      "text/plain": [
       "<Figure size 432x288 with 1 Axes>"
      ]
     },
     "metadata": {
      "needs_background": "light"
     },
     "output_type": "display_data"
    }
   ],
   "source": [
    "df[df['raw_visit_count']<60000]['raw_visit_count'].hist()"
   ]
  },
  {
   "cell_type": "markdown",
   "metadata": {},
   "source": [
    "#### raw_visitor_count"
   ]
  },
  {
   "cell_type": "markdown",
   "metadata": {},
   "source": [
    "* 因为最大最小值差距较大，所以根据五数概括中的**Q3** = 13099，取小于20000的值进行可视化："
   ]
  },
  {
   "cell_type": "code",
   "execution_count": 17,
   "metadata": {
    "scrolled": false
   },
   "outputs": [
    {
     "data": {
      "text/plain": [
       "<matplotlib.axes._subplots.AxesSubplot at 0x157571c5080>"
      ]
     },
     "execution_count": 17,
     "metadata": {},
     "output_type": "execute_result"
    },
    {
     "data": {
      "image/png": "[encoded data removed]",
      "text/plain": [
       "<Figure size 432x288 with 1 Axes>"
      ]
     },
     "metadata": {
      "needs_background": "light"
     },
     "output_type": "display_data"
    }
   ],
   "source": [
    "df[df['raw_visitor_count']<20000]['raw_visitor_count'].hist()"
   ]
  },
  {
   "cell_type": "markdown",
   "metadata": {},
   "source": [
    "#### distance_from_home\n",
    "* 因为最大最小值差距较大，所以根据五数概括中的**Q3** = 31397.75，取小于40000的值进行可视化："
   ]
  },
  {
   "cell_type": "code",
   "execution_count": 18,
   "metadata": {},
   "outputs": [
    {
     "data": {
      "text/plain": [
       "<matplotlib.axes._subplots.AxesSubplot at 0x15756740470>"
      ]
     },
     "execution_count": 18,
     "metadata": {},
     "output_type": "execute_result"
    },
    {
     "data": {
      "image/png": "[encoded data removed]",
      "text/plain": [
       "<Figure size 432x288 with 1 Axes>"
      ]
     },
     "metadata": {
      "needs_background": "light"
     },
     "output_type": "display_data"
    }
   ],
   "source": [
    "df[df['distance_from_home']<40000]['distance_from_home'].hist()"
   ]
  },
  {
   "cell_type": "markdown",
   "metadata": {},
   "source": [
    "### 盒图\n",
    "#### raw_visit_count"
   ]
  },
  {
   "cell_type": "code",
   "execution_count": 19,
   "metadata": {
    "scrolled": true
   },
   "outputs": [
    {
     "data": {
      "image/png": "[encoded data removed]",
      "text/plain": [
       "<Figure size 432x288 with 1 Axes>"
      ]
     },
     "metadata": {
      "needs_background": "light"
     },
     "output_type": "display_data"
    }
   ],
   "source": [
    "visit = pd.DataFrame(df.raw_visit_count)\n",
    "visit.boxplot(sym = 'o')  # 中间箱体是否缺口) #也可用plot.box()\n",
    "plt.show()"
   ]
  },
  {
   "cell_type": "markdown",
   "metadata": {},
   "source": [
    "#### raw_visitor_count"
   ]
  },
  {
   "cell_type": "code",
   "execution_count": 20,
   "metadata": {},
   "outputs": [
    {
     "data": {
      "image/png": "[encoded data removed]",
      "text/plain": [
       "<Figure size 432x288 with 1 Axes>"
      ]
     },
     "metadata": {
      "needs_background": "light"
     },
     "output_type": "display_data"
    }
   ],
   "source": [
    "visitor = pd.DataFrame(df.raw_visitor_count)\n",
    "visitor.boxplot(sym = 'o')  # 中间箱体是否缺口) #也可用plot.box()\n",
    "plt.show()"
   ]
  },
  {
   "cell_type": "markdown",
   "metadata": {},
   "source": [
    "#### distance_from_home"
   ]
  },
  {
   "cell_type": "code",
   "execution_count": 21,
   "metadata": {},
   "outputs": [
    {
     "data": {
      "image/png": "[encoded data removed]",
      "text/plain": [
       "<Figure size 432x288 with 1 Axes>"
      ]
     },
     "metadata": {
      "needs_background": "light"
     },
     "output_type": "display_data"
    }
   ],
   "source": [
    "distance = pd.DataFrame(df.distance_from_home)\n",
    "distance.boxplot(sym = 'o')  # 中间箱体是否缺口) #也可用plot.box()\n",
    "plt.show()"
   ]
  },
  {
   "cell_type": "markdown",
   "metadata": {},
   "source": [
    "# 数据缺失的处理\n",
    "## 观察数据集中缺失数据，分析其缺失的原因。\n",
    "* **distance_from_home**：访客到CBG的离家中位距离，以米为单位。缺失值个数为217。\n",
    "* **raw_visit_count**和**raw_visitor_count**缺失值个数相同。\n",
    "* **census_block_group**缺失1个值，有可能是异常缺失。"
   ]
  },
  {
   "cell_type": "code",
   "execution_count": 22,
   "metadata": {},
   "outputs": [
    {
     "data": {
      "text/plain": [
       "distance_from_home          217\n",
       "raw_visitor_count           106\n",
       "raw_visit_count             106\n",
       "census_block_group            1\n",
       "popularity_by_day             0\n",
       "popularity_by_hour            0\n",
       "top_brands                    0\n",
       "related_same_month_brand      0\n",
       "related_same_day_brand        0\n",
       "visitor_work_cbgs             0\n",
       "visitor_home_cbgs             0\n",
       "date_range_end                0\n",
       "date_range_start              0\n",
       "dtype: int64"
      ]
     },
     "execution_count": 22,
     "metadata": {},
     "output_type": "execute_result"
    }
   ],
   "source": [
    "missing_data = df.isnull().sum().sort_values(ascending = False)\n",
    "missing_data"
   ]
  },
  {
   "cell_type": "markdown",
   "metadata": {},
   "source": [
    "## 将缺失部分剔除\n",
    "剔除后，剩余220518条记录："
   ]
  },
  {
   "cell_type": "code",
   "execution_count": 23,
   "metadata": {},
   "outputs": [],
   "source": [
    "df1 = df.copy(deep=True)\n",
    "df1 = df1.dropna()"
   ]
  },
  {
   "cell_type": "code",
   "execution_count": 24,
   "metadata": {},
   "outputs": [
    {
     "name": "stdout",
     "output_type": "stream",
     "text": [
      "<class 'pandas.core.frame.DataFrame'>\n",
      "Int64Index: 220518 entries, 0 to 220628\n",
      "Data columns (total 13 columns):\n",
      "census_block_group          220518 non-null float64\n",
      "date_range_start            220518 non-null int64\n",
      "date_range_end              220518 non-null int64\n",
      "raw_visit_count             220518 non-null float64\n",
      "raw_visitor_count           220518 non-null float64\n",
      "visitor_home_cbgs           220518 non-null object\n",
      "visitor_work_cbgs           220518 non-null object\n",
      "distance_from_home          220518 non-null float64\n",
      "related_same_day_brand      220518 non-null object\n",
      "related_same_month_brand    220518 non-null object\n",
      "top_brands                  220518 non-null object\n",
      "popularity_by_hour          220518 non-null object\n",
      "popularity_by_day           220518 non-null object\n",
      "dtypes: float64(4), int64(2), object(7)\n",
      "memory usage: 23.6+ MB\n"
     ]
    }
   ],
   "source": [
    "df1.info()"
   ]
  },
  {
   "cell_type": "markdown",
   "metadata": {},
   "source": [
    "## 用最高频率值来填补缺失值"
   ]
  },
  {
   "cell_type": "code",
   "execution_count": 25,
   "metadata": {},
   "outputs": [],
   "source": [
    "df1 = df.copy(deep=True)\n",
    "# distance_from_home\n",
    "most = df1['distance_from_home'].value_counts().index[0]\n",
    "df1['distance_from_home'] = df1['distance_from_home'].fillna(most)\n",
    "# raw_visitor_count\n",
    "most = df1['raw_visitor_count'].value_counts().index[0]\n",
    "df1['raw_visitor_count'] = df1['raw_visitor_count'].fillna(most)\n",
    "# raw_visit_count\n",
    "most = df1['raw_visit_count'].value_counts().index[0]\n",
    "df1['raw_visit_count'] = df1['raw_visit_count'].fillna(most)\n",
    "# census_block_group\n",
    "most = df1['census_block_group'].value_counts().index[0]\n",
    "df1['census_block_group'] = df1['census_block_group'].fillna(most)"
   ]
  },
  {
   "cell_type": "code",
   "execution_count": 26,
   "metadata": {},
   "outputs": [
    {
     "name": "stdout",
     "output_type": "stream",
     "text": [
      "<class 'pandas.core.frame.DataFrame'>\n",
      "RangeIndex: 220735 entries, 0 to 220734\n",
      "Data columns (total 13 columns):\n",
      "census_block_group          220735 non-null float64\n",
      "date_range_start            220735 non-null int64\n",
      "date_range_end              220735 non-null int64\n",
      "raw_visit_count             220735 non-null float64\n",
      "raw_visitor_count           220735 non-null float64\n",
      "visitor_home_cbgs           220735 non-null object\n",
      "visitor_work_cbgs           220735 non-null object\n",
      "distance_from_home          220735 non-null float64\n",
      "related_same_day_brand      220735 non-null object\n",
      "related_same_month_brand    220735 non-null object\n",
      "top_brands                  220735 non-null object\n",
      "popularity_by_hour          220735 non-null object\n",
      "popularity_by_day           220735 non-null object\n",
      "dtypes: float64(4), int64(2), object(7)\n",
      "memory usage: 21.9+ MB\n"
     ]
    }
   ],
   "source": [
    "df1.info()"
   ]
  },
  {
   "cell_type": "markdown",
   "metadata": {},
   "source": [
    "以**distance_from_home**为例，由于缺失值不多，所以可视化对比不是太明显："
   ]
  },
  {
   "cell_type": "code",
   "execution_count": 27,
   "metadata": {},
   "outputs": [
    {
     "data": {
      "text/plain": [
       "<matplotlib.axes._subplots.AxesSubplot at 0x15756a6f1d0>"
      ]
     },
     "execution_count": 27,
     "metadata": {},
     "output_type": "execute_result"
    },
    {
     "data": {
      "image/png": "[encoded data removed]",
      "text/plain": [
       "<Figure size 800x800 with 2 Axes>"
      ]
     },
     "metadata": {
      "needs_background": "light"
     },
     "output_type": "display_data"
    }
   ],
   "source": [
    "# df1[df1['distance_from_home']<40000]['distance_from_home'].hist()\n",
    "plt.figure(figsize=(10,10), dpi=80)\n",
    "plt.figure(1)\n",
    "ax1 = plt.subplot(221)\n",
    "df1[df1[\"distance_from_home\"]<40000]['distance_from_home'].plot.hist()\n",
    "ax2 = plt.subplot(222)\n",
    "df[df[\"distance_from_home\"]<40000]['distance_from_home'].plot.hist()"
   ]
  },
  {
   "cell_type": "markdown",
   "metadata": {},
   "source": [
    "## 通过属性的相关关系来填补缺失值"
   ]
  },
  {
   "cell_type": "code",
   "execution_count": 28,
   "metadata": {},
   "outputs": [],
   "source": [
    "df1 = df.copy(deep=True)"
   ]
  },
  {
   "cell_type": "code",
   "execution_count": 29,
   "metadata": {},
   "outputs": [
    {
     "data": {
      "text/html": [
       "<div>\n",
       "<style scoped>\n",
       "    .dataframe tbody tr th:only-of-type {\n",
       "        vertical-align: middle;\n",
       "    }\n",
       "\n",
       "    .dataframe tbody tr th {\n",
       "        vertical-align: top;\n",
       "    }\n",
       "\n",
       "    .dataframe thead th {\n",
       "        text-align: right;\n",
       "    }\n",
       "</style>\n",
       "<table border=\"1\" class=\"dataframe\">\n",
       "  <thead>\n",
       "    <tr style=\"text-align: right;\">\n",
       "      <th></th>\n",
       "      <th>census_block_group</th>\n",
       "      <th>date_range_start</th>\n",
       "      <th>date_range_end</th>\n",
       "      <th>raw_visit_count</th>\n",
       "      <th>raw_visitor_count</th>\n",
       "      <th>distance_from_home</th>\n",
       "    </tr>\n",
       "  </thead>\n",
       "  <tbody>\n",
       "    <tr>\n",
       "      <th>census_block_group</th>\n",
       "      <td>1.000000</td>\n",
       "      <td>NaN</td>\n",
       "      <td>NaN</td>\n",
       "      <td>-0.053986</td>\n",
       "      <td>-0.032591</td>\n",
       "      <td>-0.000658</td>\n",
       "    </tr>\n",
       "    <tr>\n",
       "      <th>date_range_start</th>\n",
       "      <td>NaN</td>\n",
       "      <td>NaN</td>\n",
       "      <td>NaN</td>\n",
       "      <td>NaN</td>\n",
       "      <td>NaN</td>\n",
       "      <td>NaN</td>\n",
       "    </tr>\n",
       "    <tr>\n",
       "      <th>date_range_end</th>\n",
       "      <td>NaN</td>\n",
       "      <td>NaN</td>\n",
       "      <td>NaN</td>\n",
       "      <td>NaN</td>\n",
       "      <td>NaN</td>\n",
       "      <td>NaN</td>\n",
       "    </tr>\n",
       "    <tr>\n",
       "      <th>raw_visit_count</th>\n",
       "      <td>-0.053986</td>\n",
       "      <td>NaN</td>\n",
       "      <td>NaN</td>\n",
       "      <td>1.000000</td>\n",
       "      <td>0.815850</td>\n",
       "      <td>0.021721</td>\n",
       "    </tr>\n",
       "    <tr>\n",
       "      <th>raw_visitor_count</th>\n",
       "      <td>-0.032591</td>\n",
       "      <td>NaN</td>\n",
       "      <td>NaN</td>\n",
       "      <td>0.815850</td>\n",
       "      <td>1.000000</td>\n",
       "      <td>0.032879</td>\n",
       "    </tr>\n",
       "    <tr>\n",
       "      <th>distance_from_home</th>\n",
       "      <td>-0.000658</td>\n",
       "      <td>NaN</td>\n",
       "      <td>NaN</td>\n",
       "      <td>0.021721</td>\n",
       "      <td>0.032879</td>\n",
       "      <td>1.000000</td>\n",
       "    </tr>\n",
       "  </tbody>\n",
       "</table>\n",
       "</div>"
      ],
      "text/plain": [
       "                    census_block_group  date_range_start  date_range_end  \\\n",
       "census_block_group            1.000000               NaN             NaN   \n",
       "date_range_start                   NaN               NaN             NaN   \n",
       "date_range_end                     NaN               NaN             NaN   \n",
       "raw_visit_count              -0.053986               NaN             NaN   \n",
       "raw_visitor_count            -0.032591               NaN             NaN   \n",
       "distance_from_home           -0.000658               NaN             NaN   \n",
       "\n",
       "                    raw_visit_count  raw_visitor_count  distance_from_home  \n",
       "census_block_group        -0.053986          -0.032591           -0.000658  \n",
       "date_range_start                NaN                NaN                 NaN  \n",
       "date_range_end                  NaN                NaN                 NaN  \n",
       "raw_visit_count            1.000000           0.815850            0.021721  \n",
       "raw_visitor_count          0.815850           1.000000            0.032879  \n",
       "distance_from_home         0.021721           0.032879            1.000000  "
      ]
     },
     "execution_count": 29,
     "metadata": {},
     "output_type": "execute_result"
    }
   ],
   "source": [
    "corr_matrix = df1.corr()\n",
    "corr_matrix"
   ]
  },
  {
   "cell_type": "markdown",
   "metadata": {},
   "source": [
    "### raw_visit_count、raw_visitor_count\n",
    "查看缺失值所对应的记录，发现**raw_visit_count**和**raw_visitor_count**同时缺失，且无法通过相关关系来填补："
   ]
  },
  {
   "cell_type": "code",
   "execution_count": 30,
   "metadata": {
    "scrolled": true
   },
   "outputs": [
    {
     "data": {
      "text/html": [
       "<div>\n",
       "<style scoped>\n",
       "    .dataframe tbody tr th:only-of-type {\n",
       "        vertical-align: middle;\n",
       "    }\n",
       "\n",
       "    .dataframe tbody tr th {\n",
       "        vertical-align: top;\n",
       "    }\n",
       "\n",
       "    .dataframe thead th {\n",
       "        text-align: right;\n",
       "    }\n",
       "</style>\n",
       "<table border=\"1\" class=\"dataframe\">\n",
       "  <thead>\n",
       "    <tr style=\"text-align: right;\">\n",
       "      <th></th>\n",
       "      <th>census_block_group</th>\n",
       "      <th>date_range_start</th>\n",
       "      <th>date_range_end</th>\n",
       "      <th>raw_visit_count</th>\n",
       "      <th>raw_visitor_count</th>\n",
       "      <th>visitor_home_cbgs</th>\n",
       "      <th>visitor_work_cbgs</th>\n",
       "      <th>distance_from_home</th>\n",
       "      <th>related_same_day_brand</th>\n",
       "      <th>related_same_month_brand</th>\n",
       "      <th>top_brands</th>\n",
       "      <th>popularity_by_hour</th>\n",
       "      <th>popularity_by_day</th>\n",
       "    </tr>\n",
       "  </thead>\n",
       "  <tbody>\n",
       "    <tr>\n",
       "      <th>220629</th>\n",
       "      <td>2.605399e+11</td>\n",
       "      <td>1538352000</td>\n",
       "      <td>1541030400</td>\n",
       "      <td>NaN</td>\n",
       "      <td>NaN</td>\n",
       "      <td>{}</td>\n",
       "      <td>{}</td>\n",
       "      <td>NaN</td>\n",
       "      <td>[]</td>\n",
       "      <td>[]</td>\n",
       "      <td>[]</td>\n",
       "      <td>[]</td>\n",
       "      <td>{}</td>\n",
       "    </tr>\n",
       "    <tr>\n",
       "      <th>220630</th>\n",
       "      <td>6.912099e+11</td>\n",
       "      <td>1538352000</td>\n",
       "      <td>1541030400</td>\n",
       "      <td>NaN</td>\n",
       "      <td>NaN</td>\n",
       "      <td>{}</td>\n",
       "      <td>{}</td>\n",
       "      <td>NaN</td>\n",
       "      <td>[]</td>\n",
       "      <td>[]</td>\n",
       "      <td>[]</td>\n",
       "      <td>[]</td>\n",
       "      <td>{}</td>\n",
       "    </tr>\n",
       "    <tr>\n",
       "      <th>220631</th>\n",
       "      <td>7.205799e+11</td>\n",
       "      <td>1538352000</td>\n",
       "      <td>1541030400</td>\n",
       "      <td>NaN</td>\n",
       "      <td>NaN</td>\n",
       "      <td>{}</td>\n",
       "      <td>{}</td>\n",
       "      <td>NaN</td>\n",
       "      <td>[]</td>\n",
       "      <td>[]</td>\n",
       "      <td>[]</td>\n",
       "      <td>[]</td>\n",
       "      <td>{}</td>\n",
       "    </tr>\n",
       "    <tr>\n",
       "      <th>220632</th>\n",
       "      <td>2.060000e+10</td>\n",
       "      <td>1538352000</td>\n",
       "      <td>1541030400</td>\n",
       "      <td>NaN</td>\n",
       "      <td>NaN</td>\n",
       "      <td>{}</td>\n",
       "      <td>{}</td>\n",
       "      <td>NaN</td>\n",
       "      <td>[]</td>\n",
       "      <td>[]</td>\n",
       "      <td>[]</td>\n",
       "      <td>[]</td>\n",
       "      <td>{}</td>\n",
       "    </tr>\n",
       "    <tr>\n",
       "      <th>220633</th>\n",
       "      <td>3.600394e+11</td>\n",
       "      <td>1538352000</td>\n",
       "      <td>1541030400</td>\n",
       "      <td>NaN</td>\n",
       "      <td>NaN</td>\n",
       "      <td>{}</td>\n",
       "      <td>{}</td>\n",
       "      <td>NaN</td>\n",
       "      <td>[]</td>\n",
       "      <td>[]</td>\n",
       "      <td>[]</td>\n",
       "      <td>[]</td>\n",
       "      <td>{}</td>\n",
       "    </tr>\n",
       "    <tr>\n",
       "      <th>...</th>\n",
       "      <td>...</td>\n",
       "      <td>...</td>\n",
       "      <td>...</td>\n",
       "      <td>...</td>\n",
       "      <td>...</td>\n",
       "      <td>...</td>\n",
       "      <td>...</td>\n",
       "      <td>...</td>\n",
       "      <td>...</td>\n",
       "      <td>...</td>\n",
       "      <td>...</td>\n",
       "      <td>...</td>\n",
       "      <td>...</td>\n",
       "    </tr>\n",
       "    <tr>\n",
       "      <th>220730</th>\n",
       "      <td>4.805799e+11</td>\n",
       "      <td>1538352000</td>\n",
       "      <td>1541030400</td>\n",
       "      <td>NaN</td>\n",
       "      <td>NaN</td>\n",
       "      <td>{}</td>\n",
       "      <td>{}</td>\n",
       "      <td>NaN</td>\n",
       "      <td>[]</td>\n",
       "      <td>[]</td>\n",
       "      <td>[]</td>\n",
       "      <td>[]</td>\n",
       "      <td>{}</td>\n",
       "    </tr>\n",
       "    <tr>\n",
       "      <th>220731</th>\n",
       "      <td>3.611901e+11</td>\n",
       "      <td>1538352000</td>\n",
       "      <td>1541030400</td>\n",
       "      <td>NaN</td>\n",
       "      <td>NaN</td>\n",
       "      <td>{}</td>\n",
       "      <td>{}</td>\n",
       "      <td>NaN</td>\n",
       "      <td>[]</td>\n",
       "      <td>[]</td>\n",
       "      <td>[]</td>\n",
       "      <td>[]</td>\n",
       "      <td>{}</td>\n",
       "    </tr>\n",
       "    <tr>\n",
       "      <th>220732</th>\n",
       "      <td>2.603398e+11</td>\n",
       "      <td>1538352000</td>\n",
       "      <td>1541030400</td>\n",
       "      <td>NaN</td>\n",
       "      <td>NaN</td>\n",
       "      <td>{}</td>\n",
       "      <td>{}</td>\n",
       "      <td>NaN</td>\n",
       "      <td>[]</td>\n",
       "      <td>[]</td>\n",
       "      <td>[]</td>\n",
       "      <td>[]</td>\n",
       "      <td>{}</td>\n",
       "    </tr>\n",
       "    <tr>\n",
       "      <th>220733</th>\n",
       "      <td>1.500799e+11</td>\n",
       "      <td>1538352000</td>\n",
       "      <td>1541030400</td>\n",
       "      <td>NaN</td>\n",
       "      <td>NaN</td>\n",
       "      <td>{}</td>\n",
       "      <td>{}</td>\n",
       "      <td>NaN</td>\n",
       "      <td>[]</td>\n",
       "      <td>[]</td>\n",
       "      <td>[]</td>\n",
       "      <td>[]</td>\n",
       "      <td>{}</td>\n",
       "    </tr>\n",
       "    <tr>\n",
       "      <th>220734</th>\n",
       "      <td>NaN</td>\n",
       "      <td>1538352000</td>\n",
       "      <td>1541030400</td>\n",
       "      <td>NaN</td>\n",
       "      <td>NaN</td>\n",
       "      <td>{}</td>\n",
       "      <td>{}</td>\n",
       "      <td>NaN</td>\n",
       "      <td>[]</td>\n",
       "      <td>[]</td>\n",
       "      <td>[]</td>\n",
       "      <td>[]</td>\n",
       "      <td>{}</td>\n",
       "    </tr>\n",
       "  </tbody>\n",
       "</table>\n",
       "<p>106 rows × 13 columns</p>\n",
       "</div>"
      ],
      "text/plain": [
       "        census_block_group  date_range_start  date_range_end  raw_visit_count  \\\n",
       "220629        2.605399e+11        1538352000      1541030400              NaN   \n",
       "220630        6.912099e+11        1538352000      1541030400              NaN   \n",
       "220631        7.205799e+11        1538352000      1541030400              NaN   \n",
       "220632        2.060000e+10        1538352000      1541030400              NaN   \n",
       "220633        3.600394e+11        1538352000      1541030400              NaN   \n",
       "...                    ...               ...             ...              ...   \n",
       "220730        4.805799e+11        1538352000      1541030400              NaN   \n",
       "220731        3.611901e+11        1538352000      1541030400              NaN   \n",
       "220732        2.603398e+11        1538352000      1541030400              NaN   \n",
       "220733        1.500799e+11        1538352000      1541030400              NaN   \n",
       "220734                 NaN        1538352000      1541030400              NaN   \n",
       "\n",
       "        raw_visitor_count visitor_home_cbgs visitor_work_cbgs  \\\n",
       "220629                NaN                {}                {}   \n",
       "220630                NaN                {}                {}   \n",
       "220631                NaN                {}                {}   \n",
       "220632                NaN                {}                {}   \n",
       "220633                NaN                {}                {}   \n",
       "...                   ...               ...               ...   \n",
       "220730                NaN                {}                {}   \n",
       "220731                NaN                {}                {}   \n",
       "220732                NaN                {}                {}   \n",
       "220733                NaN                {}                {}   \n",
       "220734                NaN                {}                {}   \n",
       "\n",
       "        distance_from_home related_same_day_brand related_same_month_brand  \\\n",
       "220629                 NaN                     []                       []   \n",
       "220630                 NaN                     []                       []   \n",
       "220631                 NaN                     []                       []   \n",
       "220632                 NaN                     []                       []   \n",
       "220633                 NaN                     []                       []   \n",
       "...                    ...                    ...                      ...   \n",
       "220730                 NaN                     []                       []   \n",
       "220731                 NaN                     []                       []   \n",
       "220732                 NaN                     []                       []   \n",
       "220733                 NaN                     []                       []   \n",
       "220734                 NaN                     []                       []   \n",
       "\n",
       "       top_brands popularity_by_hour popularity_by_day  \n",
       "220629         []                 []                {}  \n",
       "220630         []                 []                {}  \n",
       "220631         []                 []                {}  \n",
       "220632         []                 []                {}  \n",
       "220633         []                 []                {}  \n",
       "...           ...                ...               ...  \n",
       "220730         []                 []                {}  \n",
       "220731         []                 []                {}  \n",
       "220732         []                 []                {}  \n",
       "220733         []                 []                {}  \n",
       "220734         []                 []                {}  \n",
       "\n",
       "[106 rows x 13 columns]"
      ]
     },
     "execution_count": 30,
     "metadata": {},
     "output_type": "execute_result"
    }
   ],
   "source": [
    "df1[df1['raw_visitor_count'].isnull()]"
   ]
  },
  {
   "cell_type": "markdown",
   "metadata": {},
   "source": [
    "### distance_from_home\n",
    "没有对应的相关关系能填补缺失值。"
   ]
  },
  {
   "cell_type": "code",
   "execution_count": 31,
   "metadata": {},
   "outputs": [
    {
     "data": {
      "text/html": [
       "<div>\n",
       "<style scoped>\n",
       "    .dataframe tbody tr th:only-of-type {\n",
       "        vertical-align: middle;\n",
       "    }\n",
       "\n",
       "    .dataframe tbody tr th {\n",
       "        vertical-align: top;\n",
       "    }\n",
       "\n",
       "    .dataframe thead th {\n",
       "        text-align: right;\n",
       "    }\n",
       "</style>\n",
       "<table border=\"1\" class=\"dataframe\">\n",
       "  <thead>\n",
       "    <tr style=\"text-align: right;\">\n",
       "      <th></th>\n",
       "      <th>census_block_group</th>\n",
       "      <th>date_range_start</th>\n",
       "      <th>date_range_end</th>\n",
       "      <th>raw_visit_count</th>\n",
       "      <th>raw_visitor_count</th>\n",
       "      <th>visitor_home_cbgs</th>\n",
       "      <th>visitor_work_cbgs</th>\n",
       "      <th>distance_from_home</th>\n",
       "      <th>related_same_day_brand</th>\n",
       "      <th>related_same_month_brand</th>\n",
       "      <th>top_brands</th>\n",
       "      <th>popularity_by_hour</th>\n",
       "      <th>popularity_by_day</th>\n",
       "    </tr>\n",
       "  </thead>\n",
       "  <tbody>\n",
       "    <tr>\n",
       "      <th>1939</th>\n",
       "      <td>2.290000e+10</td>\n",
       "      <td>1538352000</td>\n",
       "      <td>1541030400</td>\n",
       "      <td>221.0</td>\n",
       "      <td>120.0</td>\n",
       "      <td>{}</td>\n",
       "      <td>{}</td>\n",
       "      <td>NaN</td>\n",
       "      <td>[\"Wendy's\",\"Walgreens\",\"starbucks\",\"mcdonalds\"...</td>\n",
       "      <td>[\"Fred Meyer Jewelers\"]</td>\n",
       "      <td>[]</td>\n",
       "      <td>[64,65,62,62,62,65,64,67,68,68,72,65,83,69,55,...</td>\n",
       "      <td>{\"Monday\":46,\"Tuesday\":50,\"Wednesday\":30,\"Thur...</td>\n",
       "    </tr>\n",
       "    <tr>\n",
       "      <th>2838</th>\n",
       "      <td>2.290000e+10</td>\n",
       "      <td>1538352000</td>\n",
       "      <td>1541030400</td>\n",
       "      <td>108.0</td>\n",
       "      <td>87.0</td>\n",
       "      <td>{}</td>\n",
       "      <td>{}</td>\n",
       "      <td>NaN</td>\n",
       "      <td>[\"The American Legion\",\"SUBWAY\",\"AC Value Cent...</td>\n",
       "      <td>[\"United States Postal Service (USPS)\"]</td>\n",
       "      <td>[\"United States Postal Service (USPS)\"]</td>\n",
       "      <td>[31,28,28,28,27,28,25,28,26,27,23,27,23,30,27,...</td>\n",
       "      <td>{\"Monday\":18,\"Tuesday\":16,\"Wednesday\":12,\"Thur...</td>\n",
       "    </tr>\n",
       "    <tr>\n",
       "      <th>3128</th>\n",
       "      <td>6.601095e+11</td>\n",
       "      <td>1538352000</td>\n",
       "      <td>1541030400</td>\n",
       "      <td>545.0</td>\n",
       "      <td>121.0</td>\n",
       "      <td>{}</td>\n",
       "      <td>{}</td>\n",
       "      <td>NaN</td>\n",
       "      <td>[\"BevMo\",\"SUBWAY\"]</td>\n",
       "      <td>[\"SUBWAY\"]</td>\n",
       "      <td>[]</td>\n",
       "      <td>[60,57,58,57,54,53,52,67,57,55,52,60,74,81,72,...</td>\n",
       "      <td>{\"Monday\":78,\"Tuesday\":77,\"Wednesday\":105,\"Thu...</td>\n",
       "    </tr>\n",
       "    <tr>\n",
       "      <th>3986</th>\n",
       "      <td>4.101199e+11</td>\n",
       "      <td>1538352000</td>\n",
       "      <td>1541030400</td>\n",
       "      <td>151.0</td>\n",
       "      <td>63.0</td>\n",
       "      <td>{}</td>\n",
       "      <td>{}</td>\n",
       "      <td>NaN</td>\n",
       "      <td>[\"Dairy Queen\",\"Taco Bell\",\"Charter Communicat...</td>\n",
       "      <td>[\"Safeway\",\"Fred Meyer\",\"walmart\",\"Fred Meyer ...</td>\n",
       "      <td>[]</td>\n",
       "      <td>[5,6,5,7,8,7,18,18,23,30,29,29,20,23,16,12,10,...</td>\n",
       "      <td>{\"Monday\":29,\"Tuesday\":9,\"Wednesday\":27,\"Thurs...</td>\n",
       "    </tr>\n",
       "    <tr>\n",
       "      <th>4372</th>\n",
       "      <td>7.211307e+11</td>\n",
       "      <td>1538352000</td>\n",
       "      <td>1541030400</td>\n",
       "      <td>444.0</td>\n",
       "      <td>167.0</td>\n",
       "      <td>{}</td>\n",
       "      <td>{}</td>\n",
       "      <td>NaN</td>\n",
       "      <td>[\"Publix Super Markets\"]</td>\n",
       "      <td>[]</td>\n",
       "      <td>[]</td>\n",
       "      <td>[104,94,102,103,99,93,92,78,73,70,80,61,60,68,...</td>\n",
       "      <td>{\"Monday\":68,\"Tuesday\":65,\"Wednesday\":62,\"Thur...</td>\n",
       "    </tr>\n",
       "    <tr>\n",
       "      <th>...</th>\n",
       "      <td>...</td>\n",
       "      <td>...</td>\n",
       "      <td>...</td>\n",
       "      <td>...</td>\n",
       "      <td>...</td>\n",
       "      <td>...</td>\n",
       "      <td>...</td>\n",
       "      <td>...</td>\n",
       "      <td>...</td>\n",
       "      <td>...</td>\n",
       "      <td>...</td>\n",
       "      <td>...</td>\n",
       "      <td>...</td>\n",
       "    </tr>\n",
       "    <tr>\n",
       "      <th>220730</th>\n",
       "      <td>4.805799e+11</td>\n",
       "      <td>1538352000</td>\n",
       "      <td>1541030400</td>\n",
       "      <td>NaN</td>\n",
       "      <td>NaN</td>\n",
       "      <td>{}</td>\n",
       "      <td>{}</td>\n",
       "      <td>NaN</td>\n",
       "      <td>[]</td>\n",
       "      <td>[]</td>\n",
       "      <td>[]</td>\n",
       "      <td>[]</td>\n",
       "      <td>{}</td>\n",
       "    </tr>\n",
       "    <tr>\n",
       "      <th>220731</th>\n",
       "      <td>3.611901e+11</td>\n",
       "      <td>1538352000</td>\n",
       "      <td>1541030400</td>\n",
       "      <td>NaN</td>\n",
       "      <td>NaN</td>\n",
       "      <td>{}</td>\n",
       "      <td>{}</td>\n",
       "      <td>NaN</td>\n",
       "      <td>[]</td>\n",
       "      <td>[]</td>\n",
       "      <td>[]</td>\n",
       "      <td>[]</td>\n",
       "      <td>{}</td>\n",
       "    </tr>\n",
       "    <tr>\n",
       "      <th>220732</th>\n",
       "      <td>2.603398e+11</td>\n",
       "      <td>1538352000</td>\n",
       "      <td>1541030400</td>\n",
       "      <td>NaN</td>\n",
       "      <td>NaN</td>\n",
       "      <td>{}</td>\n",
       "      <td>{}</td>\n",
       "      <td>NaN</td>\n",
       "      <td>[]</td>\n",
       "      <td>[]</td>\n",
       "      <td>[]</td>\n",
       "      <td>[]</td>\n",
       "      <td>{}</td>\n",
       "    </tr>\n",
       "    <tr>\n",
       "      <th>220733</th>\n",
       "      <td>1.500799e+11</td>\n",
       "      <td>1538352000</td>\n",
       "      <td>1541030400</td>\n",
       "      <td>NaN</td>\n",
       "      <td>NaN</td>\n",
       "      <td>{}</td>\n",
       "      <td>{}</td>\n",
       "      <td>NaN</td>\n",
       "      <td>[]</td>\n",
       "      <td>[]</td>\n",
       "      <td>[]</td>\n",
       "      <td>[]</td>\n",
       "      <td>{}</td>\n",
       "    </tr>\n",
       "    <tr>\n",
       "      <th>220734</th>\n",
       "      <td>NaN</td>\n",
       "      <td>1538352000</td>\n",
       "      <td>1541030400</td>\n",
       "      <td>NaN</td>\n",
       "      <td>NaN</td>\n",
       "      <td>{}</td>\n",
       "      <td>{}</td>\n",
       "      <td>NaN</td>\n",
       "      <td>[]</td>\n",
       "      <td>[]</td>\n",
       "      <td>[]</td>\n",
       "      <td>[]</td>\n",
       "      <td>{}</td>\n",
       "    </tr>\n",
       "  </tbody>\n",
       "</table>\n",
       "<p>217 rows × 13 columns</p>\n",
       "</div>"
      ],
      "text/plain": [
       "        census_block_group  date_range_start  date_range_end  raw_visit_count  \\\n",
       "1939          2.290000e+10        1538352000      1541030400            221.0   \n",
       "2838          2.290000e+10        1538352000      1541030400            108.0   \n",
       "3128          6.601095e+11        1538352000      1541030400            545.0   \n",
       "3986          4.101199e+11        1538352000      1541030400            151.0   \n",
       "4372          7.211307e+11        1538352000      1541030400            444.0   \n",
       "...                    ...               ...             ...              ...   \n",
       "220730        4.805799e+11        1538352000      1541030400              NaN   \n",
       "220731        3.611901e+11        1538352000      1541030400              NaN   \n",
       "220732        2.603398e+11        1538352000      1541030400              NaN   \n",
       "220733        1.500799e+11        1538352000      1541030400              NaN   \n",
       "220734                 NaN        1538352000      1541030400              NaN   \n",
       "\n",
       "        raw_visitor_count visitor_home_cbgs visitor_work_cbgs  \\\n",
       "1939                120.0                {}                {}   \n",
       "2838                 87.0                {}                {}   \n",
       "3128                121.0                {}                {}   \n",
       "3986                 63.0                {}                {}   \n",
       "4372                167.0                {}                {}   \n",
       "...                   ...               ...               ...   \n",
       "220730                NaN                {}                {}   \n",
       "220731                NaN                {}                {}   \n",
       "220732                NaN                {}                {}   \n",
       "220733                NaN                {}                {}   \n",
       "220734                NaN                {}                {}   \n",
       "\n",
       "        distance_from_home                             related_same_day_brand  \\\n",
       "1939                   NaN  [\"Wendy's\",\"Walgreens\",\"starbucks\",\"mcdonalds\"...   \n",
       "2838                   NaN  [\"The American Legion\",\"SUBWAY\",\"AC Value Cent...   \n",
       "3128                   NaN                                 [\"BevMo\",\"SUBWAY\"]   \n",
       "3986                   NaN  [\"Dairy Queen\",\"Taco Bell\",\"Charter Communicat...   \n",
       "4372                   NaN                           [\"Publix Super Markets\"]   \n",
       "...                    ...                                                ...   \n",
       "220730                 NaN                                                 []   \n",
       "220731                 NaN                                                 []   \n",
       "220732                 NaN                                                 []   \n",
       "220733                 NaN                                                 []   \n",
       "220734                 NaN                                                 []   \n",
       "\n",
       "                                 related_same_month_brand  \\\n",
       "1939                              [\"Fred Meyer Jewelers\"]   \n",
       "2838              [\"United States Postal Service (USPS)\"]   \n",
       "3128                                           [\"SUBWAY\"]   \n",
       "3986    [\"Safeway\",\"Fred Meyer\",\"walmart\",\"Fred Meyer ...   \n",
       "4372                                                   []   \n",
       "...                                                   ...   \n",
       "220730                                                 []   \n",
       "220731                                                 []   \n",
       "220732                                                 []   \n",
       "220733                                                 []   \n",
       "220734                                                 []   \n",
       "\n",
       "                                     top_brands  \\\n",
       "1939                                         []   \n",
       "2838    [\"United States Postal Service (USPS)\"]   \n",
       "3128                                         []   \n",
       "3986                                         []   \n",
       "4372                                         []   \n",
       "...                                         ...   \n",
       "220730                                       []   \n",
       "220731                                       []   \n",
       "220732                                       []   \n",
       "220733                                       []   \n",
       "220734                                       []   \n",
       "\n",
       "                                       popularity_by_hour  \\\n",
       "1939    [64,65,62,62,62,65,64,67,68,68,72,65,83,69,55,...   \n",
       "2838    [31,28,28,28,27,28,25,28,26,27,23,27,23,30,27,...   \n",
       "3128    [60,57,58,57,54,53,52,67,57,55,52,60,74,81,72,...   \n",
       "3986    [5,6,5,7,8,7,18,18,23,30,29,29,20,23,16,12,10,...   \n",
       "4372    [104,94,102,103,99,93,92,78,73,70,80,61,60,68,...   \n",
       "...                                                   ...   \n",
       "220730                                                 []   \n",
       "220731                                                 []   \n",
       "220732                                                 []   \n",
       "220733                                                 []   \n",
       "220734                                                 []   \n",
       "\n",
       "                                        popularity_by_day  \n",
       "1939    {\"Monday\":46,\"Tuesday\":50,\"Wednesday\":30,\"Thur...  \n",
       "2838    {\"Monday\":18,\"Tuesday\":16,\"Wednesday\":12,\"Thur...  \n",
       "3128    {\"Monday\":78,\"Tuesday\":77,\"Wednesday\":105,\"Thu...  \n",
       "3986    {\"Monday\":29,\"Tuesday\":9,\"Wednesday\":27,\"Thurs...  \n",
       "4372    {\"Monday\":68,\"Tuesday\":65,\"Wednesday\":62,\"Thur...  \n",
       "...                                                   ...  \n",
       "220730                                                 {}  \n",
       "220731                                                 {}  \n",
       "220732                                                 {}  \n",
       "220733                                                 {}  \n",
       "220734                                                 {}  \n",
       "\n",
       "[217 rows x 13 columns]"
      ]
     },
     "execution_count": 31,
     "metadata": {},
     "output_type": "execute_result"
    }
   ],
   "source": [
    "df1[df1['distance_from_home'].isnull()]"
   ]
  },
  {
   "cell_type": "markdown",
   "metadata": {},
   "source": [
    "则，选择用**中位数**填补缺失值："
   ]
  },
  {
   "cell_type": "code",
   "execution_count": 32,
   "metadata": {},
   "outputs": [],
   "source": [
    "df1.fillna(df1.median(),inplace=True)"
   ]
  },
  {
   "cell_type": "code",
   "execution_count": 33,
   "metadata": {},
   "outputs": [
    {
     "name": "stdout",
     "output_type": "stream",
     "text": [
      "<class 'pandas.core.frame.DataFrame'>\n",
      "RangeIndex: 220735 entries, 0 to 220734\n",
      "Data columns (total 13 columns):\n",
      "census_block_group          220735 non-null float64\n",
      "date_range_start            220735 non-null int64\n",
      "date_range_end              220735 non-null int64\n",
      "raw_visit_count             220735 non-null float64\n",
      "raw_visitor_count           220735 non-null float64\n",
      "visitor_home_cbgs           220735 non-null object\n",
      "visitor_work_cbgs           220735 non-null object\n",
      "distance_from_home          220735 non-null float64\n",
      "related_same_day_brand      220735 non-null object\n",
      "related_same_month_brand    220735 non-null object\n",
      "top_brands                  220735 non-null object\n",
      "popularity_by_hour          220735 non-null object\n",
      "popularity_by_day           220735 non-null object\n",
      "dtypes: float64(4), int64(2), object(7)\n",
      "memory usage: 21.9+ MB\n"
     ]
    }
   ],
   "source": [
    "df1.info()"
   ]
  },
  {
   "cell_type": "markdown",
   "metadata": {},
   "source": [
    "## 通过数据对象之间的相似性来填补缺失值\n",
    "采用临近值填充："
   ]
  },
  {
   "cell_type": "code",
   "execution_count": 34,
   "metadata": {},
   "outputs": [],
   "source": [
    "df1 = df.copy(deep=True)"
   ]
  },
  {
   "cell_type": "code",
   "execution_count": 35,
   "metadata": {},
   "outputs": [],
   "source": [
    "df1 = df1.fillna(method='ffill')"
   ]
  },
  {
   "cell_type": "code",
   "execution_count": 36,
   "metadata": {},
   "outputs": [
    {
     "name": "stdout",
     "output_type": "stream",
     "text": [
      "<class 'pandas.core.frame.DataFrame'>\n",
      "RangeIndex: 220735 entries, 0 to 220734\n",
      "Data columns (total 13 columns):\n",
      "census_block_group          220735 non-null float64\n",
      "date_range_start            220735 non-null int64\n",
      "date_range_end              220735 non-null int64\n",
      "raw_visit_count             220735 non-null float64\n",
      "raw_visitor_count           220735 non-null float64\n",
      "visitor_home_cbgs           220735 non-null object\n",
      "visitor_work_cbgs           220735 non-null object\n",
      "distance_from_home          220735 non-null float64\n",
      "related_same_day_brand      220735 non-null object\n",
      "related_same_month_brand    220735 non-null object\n",
      "top_brands                  220735 non-null object\n",
      "popularity_by_hour          220735 non-null object\n",
      "popularity_by_day           220735 non-null object\n",
      "dtypes: float64(4), int64(2), object(7)\n",
      "memory usage: 21.9+ MB\n"
     ]
    }
   ],
   "source": [
    "df1.info()"
   ]
  },
  {
   "cell_type": "markdown",
   "metadata": {},
   "source": [
    "### raw_visit_count"
   ]
  },
  {
   "cell_type": "code",
   "execution_count": 37,
   "metadata": {
    "scrolled": true
   },
   "outputs": [
    {
     "data": {
      "text/plain": [
       "<matplotlib.axes._subplots.AxesSubplot at 0x157551c8f28>"
      ]
     },
     "execution_count": 37,
     "metadata": {},
     "output_type": "execute_result"
    },
    {
     "data": {
      "image/png": "[encoded data removed]",
      "text/plain": [
       "<Figure size 640x640 with 2 Axes>"
      ]
     },
     "metadata": {
      "needs_background": "light"
     },
     "output_type": "display_data"
    }
   ],
   "source": [
    "plt.figure(figsize=(8,8), dpi=80)\n",
    "plt.figure(1)\n",
    "ax1 = plt.subplot(221)\n",
    "df1[df1['raw_visit_count']<60000]['raw_visit_count'].hist()\n",
    "ax2 = plt.subplot(222)\n",
    "df[df['raw_visit_count']<60000]['raw_visit_count'].hist()"
   ]
  },
  {
   "cell_type": "markdown",
   "metadata": {},
   "source": [
    "### raw_visitor_count"
   ]
  },
  {
   "cell_type": "code",
   "execution_count": 38,
   "metadata": {},
   "outputs": [
    {
     "data": {
      "text/plain": [
       "<matplotlib.axes._subplots.AxesSubplot at 0x157565b0668>"
      ]
     },
     "execution_count": 38,
     "metadata": {},
     "output_type": "execute_result"
    },
    {
     "data": {
      "image/png": "[encoded data removed]",
      "text/plain": [
       "<Figure size 640x640 with 2 Axes>"
      ]
     },
     "metadata": {
      "needs_background": "light"
     },
     "output_type": "display_data"
    }
   ],
   "source": [
    "plt.figure(figsize=(8,8), dpi=80)\n",
    "plt.figure(1)\n",
    "ax1 = plt.subplot(221)\n",
    "df1[df1['raw_visitor_count']<20000]['raw_visitor_count'].hist()\n",
    "ax2 = plt.subplot(222)\n",
    "df[df['raw_visitor_count']<20000]['raw_visitor_count'].hist()"
   ]
  },
  {
   "cell_type": "markdown",
   "metadata": {},
   "source": [
    "### distence_from_home"
   ]
  },
  {
   "cell_type": "code",
   "execution_count": 39,
   "metadata": {},
   "outputs": [
    {
     "data": {
      "text/plain": [
       "<matplotlib.axes._subplots.AxesSubplot at 0x1575681f860>"
      ]
     },
     "execution_count": 39,
     "metadata": {},
     "output_type": "execute_result"
    },
    {
     "data": {
      "image/png": "[encoded data removed]",
      "text/plain": [
       "<Figure size 640x640 with 2 Axes>"
      ]
     },
     "metadata": {
      "needs_background": "light"
     },
     "output_type": "display_data"
    }
   ],
   "source": [
    "plt.figure(figsize=(8,8), dpi=80)\n",
    "plt.figure(1)\n",
    "ax1 = plt.subplot(221)\n",
    "df1[df1['distance_from_home']<40000]['distance_from_home'].hist()\n",
    "ax2 = plt.subplot(222)\n",
    "df[df['distance_from_home']<40000]['distance_from_home'].hist()"
   ]
  }
 ],
 "metadata": {
  "kernelspec": {
   "display_name": "Python 3",
   "language": "python",
   "name": "python3"
  },
  "language_info": {
   "codemirror_mode": {
    "name": "ipython",
    "version": 3
   },
   "file_extension": ".py",
   "mimetype": "text/x-python",
   "name": "python",
   "nbconvert_exporter": "python",
   "pygments_lexer": "ipython3",
   "version": "3.7.7"
  },
  "toc": {
   "base_numbering": 1,
   "nav_menu": {},
   "number_sections": true,
   "sideBar": true,
   "skip_h1_title": false,
   "title_cell": "Table of Contents",
   "title_sidebar": "Contents",
   "toc_cell": false,
   "toc_position": {
    "height": "calc(100% - 180px)",
    "left": "10px",
    "top": "150px",
    "width": "187.344px"
   },
   "toc_section_display": true,
   "toc_window_display": true
  }
 },
 "nbformat": 4,
 "nbformat_minor": 4
}
